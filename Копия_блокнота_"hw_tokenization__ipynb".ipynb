{
  "cells": [
    {
      "cell_type": "markdown",
      "metadata": {
        "id": "view-in-github",
        "colab_type": "text"
      },
      "source": [
        "<a href=\"https://colab.research.google.com/github/lenagromova/Praktika2/blob/main/%D0%9A%D0%BE%D0%BF%D0%B8%D1%8F_%D0%B1%D0%BB%D0%BE%D0%BA%D0%BD%D0%BE%D1%82%D0%B0_%22hw_tokenization__ipynb%22.ipynb\" target=\"_parent\"><img src=\"https://colab.research.google.com/assets/colab-badge.svg\" alt=\"Open In Colab\"/></a>"
      ]
    },
    {
      "cell_type": "markdown",
      "metadata": {
        "id": "hiXdJjBa9sCq"
      },
      "source": [
        "# Домашнее задание: Токенизация текста"
      ]
    },
    {
      "cell_type": "markdown",
      "source": [
        "Дан список текстов, которые нужно токенизировать разными способами"
      ],
      "metadata": {
        "id": "1xVbvaj_phyN"
      }
    },
    {
      "cell_type": "code",
      "source": [
        "text = [\n",
        "\"The quick brown fox jumps over the lazy dog. It's a beautiful day!\",\n",
        "\"Dr. Smith arrived at 5:30 p.m. from New York. The meeting cost $1,000.50.\",\n",
        "\"I can't believe she's going! Let's meet at Jane's house. They'll love it.\",\n",
        "\"What's the ETA for the package? Please e-mail support@example.com ASAP!\"\n",
        "]"
      ],
      "metadata": {
        "id": "uj-xaNnwpiPo"
      },
      "execution_count": 10,
      "outputs": []
    },
    {
      "cell_type": "markdown",
      "source": [
        " Используйте способы токенизации, которые описаны в практикуме. Каждый способ нужно обернуть в функцию, например:\n",
        "\n",
        " ```python\n",
        " def simple_tokenization(string):\n",
        "   return string.split()\n",
        "   ```"
      ],
      "metadata": {
        "id": "ix1Im4Kcqb3_"
      }
    },
    {
      "cell_type": "markdown",
      "source": [
        "1. Напишите функцию для токенизации по пробелам и знакам препинания (используйте оператор `def`)"
      ],
      "metadata": {
        "id": "Ih0BBOGBpv6Z"
      }
    },
    {
      "cell_type": "code",
      "source": [
        "# Ваш код здесь\n",
        "#Импортируем модуль для работы с регулярными выражениями\n",
        "import re\n",
        "#Определяем функцию first_tokenization, которая принимает один параметр text\n",
        "def first_tokenization(text):\n",
        "    tokens = re.findall(r\"\\w+\", text) #Возвращаем список всех найденных совпадений. r'\\w+' означает:\n",
        "    # r - сырая строка, чтобы избежать проблем с обратными слешами\n",
        "    # \\w+ - один или больше символов слова (буквы, цифры, нижнее подчеркивание)\n",
        "    return tokens #Возвращаем полученный список токенов\n"
      ],
      "metadata": {
        "id": "W1QCaw6cqDnn"
      },
      "execution_count": 37,
      "outputs": []
    },
    {
      "cell_type": "markdown",
      "source": [
        "2. Напишите функцию для токенизации текста с помощью NLTK"
      ],
      "metadata": {
        "id": "GThvPcovqgO5"
      }
    },
    {
      "cell_type": "code",
      "source": [
        "# Ваш код здесь\n",
        "#Импортируем библиотеку NLTK\n",
        "import nltk\n",
        "nltk.download('punkt') #Загрузка необходимых данных punkt, которые используются для токенизации текста\n",
        "from nltk.tokenize import word_tokenize #Импортируем конкретные функции: word_tokenize - для разбиения текста на слова\n",
        "#Определяем функцию second_tokenization, которая принимает один параметр text\n",
        "def second_tokenization(text):\n",
        "  return(word_tokenize(text)) #Функция возвращает список токенов\n"
      ],
      "metadata": {
        "id": "14BIv33iqrkL",
        "colab": {
          "base_uri": "https://localhost:8080/"
        },
        "outputId": "c39d229b-de92-4f96-83d0-d7459bbd0d18"
      },
      "execution_count": 36,
      "outputs": [
        {
          "output_type": "stream",
          "name": "stderr",
          "text": [
            "[nltk_data] Downloading package punkt to /root/nltk_data...\n",
            "[nltk_data]   Package punkt is already up-to-date!\n"
          ]
        }
      ]
    },
    {
      "cell_type": "markdown",
      "source": [
        "3. Напишите функцию для токенизации текста с помощью Spacy"
      ],
      "metadata": {
        "id": "GxW7ZP6iqwpt"
      }
    },
    {
      "cell_type": "code",
      "source": [
        "# Ваш код здесь\n",
        "import spacy #импортируем библиотеку spacy\n",
        "nlp = spacy.load(\"en_core_web_sm\") #Загружаем языковую модель для английского\n",
        "def third_tokenization(text): #определяем функцию под названием third_tokenization, которая принимает один параметр - text\n",
        "  doc = nlp(text) #Применяем токенизацию\n",
        "  d = [t.text for t in doc] #Выводим токены из текста\n",
        "  return d #Возвращаем полученный список токенов\n"
      ],
      "metadata": {
        "id": "B0NQg-VfuFW_"
      },
      "execution_count": 34,
      "outputs": []
    },
    {
      "cell_type": "markdown",
      "source": [
        "4. С помощью цикла `for` примените каждую из написанных функций к каждому тексту из списка `texts`"
      ],
      "metadata": {
        "id": "WmyJfB9wuKkm"
      }
    },
    {
      "cell_type": "code",
      "execution_count": 38,
      "metadata": {
        "id": "lvUmk94MhrL8",
        "colab": {
          "base_uri": "https://localhost:8080/"
        },
        "outputId": "77f444e9-cd2a-4c47-e0f1-a3b3ebdf72e5"
      },
      "outputs": [
        {
          "output_type": "stream",
          "name": "stdout",
          "text": [
            "['The', 'quick', 'brown', 'fox', 'jumps', 'over', 'the', 'lazy', 'dog', 'It', 's', 'a', 'beautiful', 'day']\n",
            "['The', 'quick', 'brown', 'fox', 'jumps', 'over', 'the', 'lazy', 'dog', '.', 'It', \"'s\", 'a', 'beautiful', 'day', '!']\n",
            "['The', 'quick', 'brown', 'fox', 'jumps', 'over', 'the', 'lazy', 'dog', '.', 'It', \"'s\", 'a', 'beautiful', 'day', '!']\n",
            "['Dr', 'Smith', 'arrived', 'at', '5', '30', 'p', 'm', 'from', 'New', 'York', 'The', 'meeting', 'cost', '1', '000', '50']\n",
            "['Dr.', 'Smith', 'arrived', 'at', '5:30', 'p.m.', 'from', 'New', 'York', '.', 'The', 'meeting', 'cost', '$', '1,000.50', '.']\n",
            "['Dr.', 'Smith', 'arrived', 'at', '5:30', 'p.m.', 'from', 'New', 'York', '.', 'The', 'meeting', 'cost', '$', '1,000.50', '.']\n",
            "['I', 'can', 't', 'believe', 'she', 's', 'going', 'Let', 's', 'meet', 'at', 'Jane', 's', 'house', 'They', 'll', 'love', 'it']\n",
            "['I', 'ca', \"n't\", 'believe', 'she', \"'s\", 'going', '!', 'Let', \"'s\", 'meet', 'at', 'Jane', \"'s\", 'house', '.', 'They', \"'ll\", 'love', 'it', '.']\n",
            "['I', 'ca', \"n't\", 'believe', 'she', \"'s\", 'going', '!', 'Let', \"'s\", 'meet', 'at', 'Jane', \"'s\", 'house', '.', 'They', \"'ll\", 'love', 'it', '.']\n",
            "['What', 's', 'the', 'ETA', 'for', 'the', 'package', 'Please', 'e', 'mail', 'support', 'example', 'com', 'ASAP']\n",
            "['What', \"'s\", 'the', 'ETA', 'for', 'the', 'package', '?', 'Please', 'e-mail', 'support', '@', 'example.com', 'ASAP', '!']\n",
            "['What', \"'s\", 'the', 'ETA', 'for', 'the', 'package', '?', 'Please', 'e', '-', 'mail', 'support@example.com', 'ASAP', '!']\n"
          ]
        }
      ],
      "source": [
        "# Ваш код здесь\n",
        "for t in text: #для каждого элемента (то есть предложения в кавычках) в списке text применить каждую из трех функций\n",
        "  print(first_tokenization(t))\n",
        "  print (second_tokenization(t))\n",
        "  print(third_tokenization(t))"
      ]
    },
    {
      "cell_type": "markdown",
      "metadata": {
        "id": "iqAgf6sGhrL8"
      },
      "source": [
        "##### Критерии оценки (макс. балл == 5):\n",
        "\n",
        "- Функциональность (до 4 баллов)): Все методы работают корректно (запускаем код, и он работает)\n",
        "- Качество кода (до 1 балла): Чистый, документированный код с обработкой ошибок (кратко описать, что вы дополнили самостоятельно, например, \"добавлена токенизация `spacy`\")"
      ]
    },
    {
      "cell_type": "markdown",
      "source": [
        "Теоретические вопросы (макс. балл == 5; в ведомость выставляется сумма за практику и теорию)\n",
        "\n",
        "Необходимо дать краткие ответы на вопросы по теме \"токенизация\". В сумме длина ответов на вопрос не должна превышать размер вордовской страницы 14 шрифтом."
      ],
      "metadata": {
        "id": "Mwe1Co6MvibX"
      }
    },
    {
      "cell_type": "markdown",
      "source": [
        "1. Почему простое разделение текста по пробелам и знакам препинания часто является недостаточным для современных NLP-задач? Приведите 2-3 конкретных примера, когда деление текста по символам или словам не работает. (2 балла за полный и подробный ответ на вопрос)\n",
        "\n",
        "ответ ниже\n",
        "\n",
        "2. Сколько токенов во фразе \"You shall know a word by the company it keeps\" в модели GPT-5? Как вы получили это значение? (1 балл за правильный ответ и ссылку на ресурс, с помощью которого вы узнали эту информацию)\n",
        "\n",
        "10 токенов, получила эту информацию с помощью этого сайта (для модели GPT-5 поставила o200k_base): https://tiktokenizer.vercel.app/?model=o200k_base\n",
        "\n",
        "3. Опишите своими словами работу алгоритма BPE (можно форматировать ответ с использованием списков, 2 балла за корректное описание и ясное изложение ответа)\n",
        "\n",
        "Алгоритм Byte-Pair Encoding (BPE) работает следующим образом:\n",
        "\n",
        "1) Исходный текст разбивается на отдельные символы. Например: l, o, w, </w>\n",
        "l, o, w, e, s, t, </w>\n",
        "</w> — обозначает конец слова\n",
        "2) Алгоритм считает частоту всех соседних пар токенов в тексте. Например, пара l o появляется дважды: 1 в low и 1 в lowest\n",
        "3) На каждом шаге выбирается и объединяется наиболее частая пара символов в новый токен. Например, если \"l\" и \"o\" часто стоят вместе, они объединяются в \"lo\".\n",
        "4) Самые частотные добавляем в словарь. Шаг 3 повторяется до тех пор, пока не получится словарь заданного размера. Получаем ”low“ (тк оно есть и в low и в lowest). e s t не объединяются, тк в low такого сочетания нет, а значит сочетание этих букв не частое."
      ],
      "metadata": {
        "id": "mgE2bQFXv0MG"
      }
    },
    {
      "cell_type": "code",
      "source": [
        "#1: Простое разделение текста по пробелам и знакам препинания недостаточно, потому что оно не учитывают пунктуацию, не работает с разными языками и морфологией и не подходит для серьёзных задач.\n",
        "# Например, составные слова:\n",
        "import re\n",
        "tex = \"Нью-Йорк\"\n",
        "tokens = re.findall(r\"\\w+\", tex)\n",
        "print(tokens) #на выдаче получаем Нью, Йорк\n",
        "#Другой пример: разные языки\n",
        "te=\"我喜欢猫\" #перевод: мне нравятся кошки (в китайском языке нет пробелов)\n",
        "print(te.split()) #на выдаче снова всё слитно\n",
        "\n",
        "#ответы на задания 2 и 3 выше\n"
      ],
      "metadata": {
        "colab": {
          "base_uri": "https://localhost:8080/"
        },
        "id": "7YQOlDdmPa5v",
        "outputId": "2c9f6877-5962-4467-e947-e3a47bc66e58"
      },
      "execution_count": 27,
      "outputs": [
        {
          "output_type": "stream",
          "name": "stdout",
          "text": [
            "['Нью', 'Йорк']\n",
            "['我喜欢猫']\n"
          ]
        }
      ]
    }
  ],
  "metadata": {
    "colab": {
      "provenance": [],
      "include_colab_link": true
    },
    "kernelspec": {
      "display_name": "Python 3",
      "name": "python3"
    },
    "language_info": {
      "name": "python"
    }
  },
  "nbformat": 4,
  "nbformat_minor": 0
}